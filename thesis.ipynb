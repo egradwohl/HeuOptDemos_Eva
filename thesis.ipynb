{
 "cells": [
  {
   "cell_type": "markdown",
   "metadata": {},
   "source": [
    "## Introduction\n",
    "what are combinatorial optimization problems? what are metaheuristics?  \n",
    "aim of this work\n",
    "\n",
    "## pymhlib\n",
    "short description: which problem classes/algorithms are currently available? ... (maybe in introduction?)\n",
    "\n",
    "## Selected algorithms\n",
    "short description, pseudocode\n",
    "\n",
    "#### GVNS\n",
    "#### GRASP\n",
    "#### Tabu Search\n",
    "\n",
    "## Framework\n",
    "(description of python modules/classes/logfiles...?)  \n",
    "\n",
    "which general settings can be made (iterations, seed)?  \n",
    "\n",
    "what options can be selected for each algorithm, what parameters can be tuned, ...\n",
    "\n",
    "\n",
    "#### Visualization of algorithms\n",
    "how are problems depicted? -> different log granularities, ...  \n",
    "\n",
    "saving/loading of visualizations\n",
    "\n",
    "#### Runtime comparison\n",
    "what is shown in each of the plots?  \n",
    "\n",
    "how does saving/loading of runs work (seed!)?\n",
    "\n",
    "## Enhancement of Framework (Outlook)\n",
    "which additions have to be made in framework/modules/classes, if new problem/new algorithm is implemented?  \n",
    "\n",
    "(additions to settings/options (new neighborhood operators, other options e.g. Tabu Search-reactive, ...,) -> enhancement of pymhlib)\n",
    "\n",
    "\n",
    "\n"
   ]
  },
  {
   "cell_type": "code",
   "execution_count": null,
   "metadata": {},
   "outputs": [],
   "source": []
  }
 ],
 "metadata": {
  "kernelspec": {
   "display_name": "Python 3",
   "language": "python",
   "name": "python3"
  },
  "language_info": {
   "codemirror_mode": {
    "name": "ipython",
    "version": 3
   },
   "file_extension": ".py",
   "mimetype": "text/x-python",
   "name": "python",
   "nbconvert_exporter": "python",
   "pygments_lexer": "ipython3",
   "version": "3.8.3"
  }
 },
 "nbformat": 4,
 "nbformat_minor": 4
}

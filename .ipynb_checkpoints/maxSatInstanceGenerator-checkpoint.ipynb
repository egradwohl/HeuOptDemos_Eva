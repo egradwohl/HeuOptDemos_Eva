{
 "cells": [
  {
   "cell_type": "code",
   "execution_count": 10,
   "metadata": {},
   "outputs": [],
   "source": [
    "import random as rd\n",
    "\n",
    "def generate_instance(filename, clauses, variables, max_size, fixed=False):\n",
    "    fobj = open(filename, 'w')\n",
    "    L = ['c generated instance\\n','c\\n', f'p cnf {variables} {clauses}\\n']\n",
    "    fobj.writelines(L)\n",
    "    v = list(range(1,variables+1))\n",
    "    for i in range(clauses):\n",
    "        size = rd.randint(1,max_size) if not fixed else max_size\n",
    "        sign = [1,-1]\n",
    "        c = []\n",
    "        i=0\n",
    "        while i < size:\n",
    "            to_add = rd.choice(v)\n",
    "            if to_add not in c:\n",
    "                c += [to_add]\n",
    "                i +=1\n",
    "        c = [x*rd.choice(sign) for x in c]\n",
    "        line = ' '.join((map(str,c))) + ' 0\\n'\n",
    "        fobj.write(line)\n",
    "\n",
    "    fobj.close()\n",
    "    \n",
    "    \n",
    "generate_instance(\"my_maxsat.cnf\", 100, 10, 4)"
   ]
  },
  {
   "cell_type": "code",
   "execution_count": null,
   "metadata": {},
   "outputs": [],
   "source": []
  }
 ],
 "metadata": {
  "kernelspec": {
   "display_name": "Python 3",
   "language": "python",
   "name": "python3"
  },
  "language_info": {
   "codemirror_mode": {
    "name": "ipython",
    "version": 3
   },
   "file_extension": ".py",
   "mimetype": "text/x-python",
   "name": "python",
   "nbconvert_exporter": "python",
   "pygments_lexer": "ipython3",
   "version": "3.8.3"
  }
 },
 "nbformat": 4,
 "nbformat_minor": 4
}

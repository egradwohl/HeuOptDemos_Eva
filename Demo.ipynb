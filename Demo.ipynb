{
 "cells": [
  {
   "cell_type": "code",
   "execution_count": 1,
   "metadata": {
    "scrolled": false
   },
   "outputs": [
    {
     "data": {
      "text/html": [
       "<style>.container { width:100% !important; }</style>"
      ],
      "text/plain": [
       "<IPython.core.display.HTML object>"
      ]
     },
     "metadata": {},
     "output_type": "display_data"
    },
    {
     "data": {
      "application/vnd.jupyter.widget-view+json": {
       "model_id": "fbd1609447c343cabf7f3203e6c8b08c",
       "version_major": 2,
       "version_minor": 0
      },
      "text/plain": [
       "RadioButtons(options=('load from log file', 'generate new run'), value='load from log file')"
      ]
     },
     "metadata": {},
     "output_type": "display_data"
    },
    {
     "data": {
      "application/vnd.jupyter.widget-view+json": {
       "model_id": "82eca45bc9dc44909754056b5223ee9e",
       "version_major": 2,
       "version_minor": 0
      },
      "text/plain": [
       "VBox(children=(Dropdown(layout=Layout(display='flex'), options=('maxsat_gvns_20210203_133406.log', 'misp_gvns_…"
      ]
     },
     "metadata": {},
     "output_type": "display_data"
    },
    {
     "data": {
      "application/vnd.jupyter.widget-view+json": {
       "model_id": "cd0c906a5ac24d03b00d08e977860817",
       "version_major": 2,
       "version_minor": 0
      },
      "text/plain": [
       "VBox(children=(VBox(children=(Accordion(children=(VBox(children=(IntText(value=100, description='iterations'),…"
      ]
     },
     "metadata": {},
     "output_type": "display_data"
    },
    {
     "data": {
      "application/vnd.jupyter.widget-view+json": {
       "model_id": "52ef97e7255f47efb4d7c3923748d2bc",
       "version_major": 2,
       "version_minor": 0
      },
      "text/plain": [
       "VBox(children=(Button(description='Run', style=ButtonStyle()), HBox(children=(Play(value=0, description='Press…"
      ]
     },
     "metadata": {},
     "output_type": "display_data"
    }
   ],
   "source": [
    "%matplotlib notebook\n",
    "from IPython.core.display import display, HTML\n",
    "display(HTML(\"<style>.container { width:100% !important; }</style>\"))\n",
    "import src.interface as interface\n",
    "interface.load_visualisation_settings()"
   ]
  },
  {
   "cell_type": "code",
   "execution_count": null,
   "metadata": {},
   "outputs": [],
   "source": [
    "import networkx as nx\n",
    "g = nx.gnm_random_graph(10,20)\n",
    "nx.set_node_attributes(g,'m',name='label')\n",
    "nodelist = list(g.nodes())\n",
    "print(nodelist)\n",
    "nodelist = sorted(nodelist, key=lambda n:len(list(g.neighbors(n))))\n",
    "nodelist.reverse()\n",
    "print(nodelist)\n",
    "i = len(nodelist)\n",
    "nl = []\n",
    "while i > 0:\n",
    "    j = int(i/2)\n",
    "    nl.append(nodelist[j:i])\n",
    "    i = j\n",
    "nl.reverse()\n",
    "nl\n",
    "for n,l in g.nodes(data='label'):\n",
    "    print(n,l)\n",
    "e = list(g.edges(6))[0]\n",
    "print(e)\n",
    "g.edges[e]['color'] = 'black'\n",
    "#g.edges[e]\n",
    "nx.set_node_attributes(g,5,'nr')\n",
    "for n in g.neighbors(0):\n",
    "    print(n)\n",
    "g.edges[e]['color'] = 'blue'\n",
    "g.edges[e]\n",
    "print(e)"
   ]
  },
  {
   "cell_type": "code",
   "execution_count": null,
   "metadata": {},
   "outputs": [],
   "source": [
    "import enum\n",
    "class InitSolution(enum.Enum):\n",
    "    RD = 0\n",
    "    GR = 1\n",
    "InitSolution['rd'.upper()]"
   ]
  },
  {
   "cell_type": "code",
   "execution_count": null,
   "metadata": {},
   "outputs": [],
   "source": [
    "t = (1,2)\n",
    "t = list(t)\n",
    "t.insert(1,3)\n",
    "tuple(t)"
   ]
  },
  {
   "cell_type": "code",
   "execution_count": null,
   "metadata": {},
   "outputs": [],
   "source": []
  }
 ],
 "metadata": {
  "kernelspec": {
   "display_name": "Python 3",
   "language": "python",
   "name": "python3"
  },
  "language_info": {
   "codemirror_mode": {
    "name": "ipython",
    "version": 3
   },
   "file_extension": ".py",
   "mimetype": "text/x-python",
   "name": "python",
   "nbconvert_exporter": "python",
   "pygments_lexer": "ipython3",
   "version": "3.8.3"
  }
 },
 "nbformat": 4,
 "nbformat_minor": 4
}

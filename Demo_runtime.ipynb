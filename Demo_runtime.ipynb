{
 "cells": [
  {
   "cell_type": "code",
   "execution_count": 1,
   "metadata": {
    "scrolled": false
   },
   "outputs": [
    {
     "data": {
      "text/html": [
       "<style>.container { width:100% !important; }</style>"
      ],
      "text/plain": [
       "<IPython.core.display.HTML object>"
      ]
     },
     "metadata": {},
     "output_type": "display_data"
    },
    {
     "data": {
      "application/vnd.jupyter.widget-view+json": {
       "model_id": "bfbb0be0e25f4f16aeb4795c4cecfed4",
       "version_major": 2,
       "version_minor": 0
      },
      "text/plain": [
       "VBox(children=(Accordion(children=(VBox(children=(IntText(value=100, description='iterations'), IntText(value=…"
      ]
     },
     "metadata": {},
     "output_type": "display_data"
    },
    {
     "data": {
      "application/vnd.jupyter.widget-view+json": {
       "model_id": "fc16efd0cd7847d6b9d3d15cb73f4f55",
       "version_major": 2,
       "version_minor": 0
      },
      "text/plain": [
       "GridBox(children=(RadioButtons(layout=Layout(grid_area='sol', width='auto'), options=('best solutions', 'curre…"
      ]
     },
     "metadata": {},
     "output_type": "display_data"
    },
    {
     "data": {
      "application/vnd.jupyter.widget-view+json": {
       "model_id": "4f25b295ad4f424aaca61da75b7cd47c",
       "version_major": 2,
       "version_minor": 0
      },
      "text/plain": [
       "Output()"
      ]
     },
     "metadata": {},
     "output_type": "display_data"
    },
    {
     "data": {
      "application/vnd.jupyter.widget-view+json": {
       "model_id": "254f849791084b7d875f569a928f3fd4",
       "version_major": 2,
       "version_minor": 0
      },
      "text/plain": [
       "Label(value='running...')"
      ]
     },
     "metadata": {},
     "output_type": "display_data"
    },
    {
     "data": {
      "application/vnd.jupyter.widget-view+json": {
       "model_id": "3b088543f6c44c9d9c6b847ea395eb8d",
       "version_major": 2,
       "version_minor": 0
      },
      "text/plain": [
       "Label(value='running...')"
      ]
     },
     "metadata": {},
     "output_type": "display_data"
    },
    {
     "data": {
      "application/vnd.jupyter.widget-view+json": {
       "model_id": "7f6064b52426451294ec6ab750f32aee",
       "version_major": 2,
       "version_minor": 0
      },
      "text/plain": [
       "Label(value='running...')"
      ]
     },
     "metadata": {},
     "output_type": "display_data"
    },
    {
     "data": {
      "application/vnd.jupyter.widget-view+json": {
       "model_id": "55be1c3ab7b44b068f191882de85ae38",
       "version_major": 2,
       "version_minor": 0
      },
      "text/plain": [
       "Label(value='running...')"
      ]
     },
     "metadata": {},
     "output_type": "display_data"
    },
    {
     "data": {
      "application/vnd.jupyter.widget-view+json": {
       "model_id": "79558ad9fbe14580a33ed0d65db83845",
       "version_major": 2,
       "version_minor": 0
      },
      "text/plain": [
       "Label(value='running...')"
      ]
     },
     "metadata": {},
     "output_type": "display_data"
    },
    {
     "data": {
      "application/vnd.jupyter.widget-view+json": {
       "model_id": "b6f8e27f251d4456831212464b3d3139",
       "version_major": 2,
       "version_minor": 0
      },
      "text/plain": [
       "Label(value='running...')"
      ]
     },
     "metadata": {},
     "output_type": "display_data"
    }
   ],
   "source": [
    "%matplotlib notebook\n",
    "from IPython.core.display import display, HTML\n",
    "display(HTML(\"<style>.container { width:100% !important; }</style>\"))\n",
    "import src.interface as interface\n",
    "interface.load_runtime_settings()"
   ]
  },
  {
   "cell_type": "code",
   "execution_count": null,
   "metadata": {
    "scrolled": false
   },
   "outputs": [],
   "source": [
    "import pandas as pd\n",
    "\n",
    "def load_datafile(filename,runs: int):\n",
    "            f = open(filename, 'r')\n",
    "            pos = 0\n",
    "            while True:\n",
    "                    l = f.readline()\n",
    "                    if not l[0] in ['D','R']:\n",
    "                            break\n",
    "                    pos = f.tell()\n",
    "            f.seek(pos)\n",
    "            data = pd.read_csv(f, sep=r'\\s+', nrows=runs).T\n",
    "            data.reset_index(drop=True, inplace=True)\n",
    "            data.index += 1\n",
    "            f.seek(pos)\n",
    "            \n",
    "            while True:\n",
    "                    l = f.readline()\n",
    "                    if l[0] == 'S':\n",
    "                            break\n",
    "            sm = pd.read_csv(f,sep=r'\\s+',index_col=['run','method'])\n",
    "            sm = sm[sm.index.get_level_values('run') <= runs]\n",
    "            f.close()\n",
    "\n",
    "            return data,sm \n",
    "\n",
    "data,sm = load_datafile('C:\\\\Users\\\\Eva\\\\Desktop\\\\BakkArbeit\\\\HeuOptDemos_Eva\\\\logs\\\\saved_runtime\\\\maxsat\\\\r5_i500_s13_ts_ch-0_li-1_tl-15-30-10__20210204_100758.log',5)\n",
    "data2,sm2 = load_datafile('C:\\\\Users\\\\Eva\\\\Desktop\\\\BakkArbeit\\\\HeuOptDemos_Eva\\\\logs\\\\saved_runtime\\\\maxsat\\\\r7_i200_s7_gvns_ch-0_li-1_sh-4-6__20210127_201106.log',5)\n",
    "\n",
    "succ = sm['succ']\n",
    "succ2 = sm2['succ']\n",
    "display(succ)\n",
    "g = succ.groupby(['method']).mean()\n",
    "g.drop('SUM/AVG',inplace=True)\n",
    "g.columns = ['run','method','gvns']\n",
    "g2 = pd.DataFrame(succ2.groupby(['method']).mean())\n",
    "g2.drop('SUM/AVG',inplace=True)\n",
    "print(g2.columns[0])\n",
    "g2.rename(columns={'succ':'gvns'},inplace=True)\n",
    "display(g2)\n",
    "df = pd.concat([g,g2],axis=1)\n",
    "df"
   ]
  },
  {
   "cell_type": "code",
   "execution_count": null,
   "metadata": {},
   "outputs": [],
   "source": []
  }
 ],
 "metadata": {
  "kernelspec": {
   "display_name": "Python 3",
   "language": "python",
   "name": "python3"
  },
  "language_info": {
   "codemirror_mode": {
    "name": "ipython",
    "version": 3
   },
   "file_extension": ".py",
   "mimetype": "text/x-python",
   "name": "python",
   "nbconvert_exporter": "python",
   "pygments_lexer": "ipython3",
   "version": "3.8.3"
  }
 },
 "nbformat": 4,
 "nbformat_minor": 4
}
